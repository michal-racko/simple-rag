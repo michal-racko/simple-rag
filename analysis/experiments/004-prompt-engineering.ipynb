{
 "cells": [
  {
   "metadata": {},
   "cell_type": "markdown",
   "source": "This experiment focuses on preparing prompt templates for the RAG system ",
   "id": "de70ed38bdcb4258"
  },
  {
   "metadata": {
    "ExecuteTime": {
     "end_time": "2024-07-15T06:09:10.704163Z",
     "start_time": "2024-07-15T06:09:10.701362Z"
    }
   },
   "cell_type": "code",
   "source": [
    "import chromadb\n",
    "import requests\n",
    "from pathlib import Path\n",
    "\n",
    "MODEL_URL = 'http://localhost:11434/api/chat'\n",
    "MODEL = 'llama3:8b'\n",
    "\n",
    "RUN_ID = '31e7999b-5e9c-4232-b1c8-58ebcabb53e4'\n",
    "EMBEDDING_URL = 'http://localhost:11434/api/embeddings'\n",
    "EMBEDDING_MODEL = 'mxbai-embed-large'\n",
    "SIMILARITY_THRESHOLD = 335\n",
    "\n",
    "CHROMA_DB_PATH = Path().resolve().parent / 'data' / 'chroma-db'\n",
    "\n",
    "EXPECTED_RESPONSES_PATH = Path().resolve().parent / 'data' / 'expected_responses'"
   ],
   "id": "11200534966eb540",
   "outputs": [],
   "execution_count": 30
  },
  {
   "metadata": {},
   "cell_type": "markdown",
   "source": [
    "Ideally we'd have a quality metric defined, run the evaluation against many user questions and tune the prompts based on the results keeping track of the prompts used.\n",
    "\n",
    "We have little information on company operations and no genuine user questions at this point so let's manually prepare and tweak the prompts to make the model respond in a desirable fashion."
   ],
   "id": "7d053bc808fdd17b"
  },
  {
   "metadata": {
    "ExecuteTime": {
     "end_time": "2024-07-15T06:09:10.767817Z",
     "start_time": "2024-07-15T06:09:10.765461Z"
    }
   },
   "cell_type": "code",
   "source": [
    "ROLE_DESCRIPTION = (\n",
    "    'You are a helpful customer-support agent working for a company named '\n",
    "    'Home Accessories LLC which offers a wide range of home accessories. '\n",
    ")"
   ],
   "id": "619c24646d58e4ab",
   "outputs": [],
   "execution_count": 31
  },
  {
   "metadata": {
    "ExecuteTime": {
     "end_time": "2024-07-15T06:09:10.778537Z",
     "start_time": "2024-07-15T06:09:10.769736Z"
    }
   },
   "cell_type": "code",
   "source": [
    "NO_SALE_PROMPT_TEMPLATE = (\n",
    "    f'{ROLE_DESCRIPTION} Answer the question using the following document: '\n",
    "    'As part of our commitment to ethical business practices and compliance with '\n",
    "    'international regulations, Home Accessories LLC has identified certain countries '\n",
    "    'where we will not conduct sales. This decision is based on a combination of '\n",
    "    'factors including but not limited to legal restrictions, ethical concerns, and '\n",
    "    'market conditions. {document} Our decision to not sell in these countries is based '\n",
    "    'on a thorough analysis of various factors that impact our business operations '\n",
    "    'and ethical standards. We remain committed to exploring potential opportunities '\n",
    "    'in these regions in the future, should the conditions change favorably. Do not '\n",
    "    'use or mention the document if it\\'s not relevant to the question. Information from '\n",
    "    'the document does not apply to other countries. QUESTION: {question}'\n",
    ")"
   ],
   "id": "2b3320822c90c634",
   "outputs": [],
   "execution_count": 32
  },
  {
   "metadata": {
    "ExecuteTime": {
     "end_time": "2024-07-15T06:09:10.789652Z",
     "start_time": "2024-07-15T06:09:10.780110Z"
    }
   },
   "cell_type": "code",
   "source": [
    "GENERAL_PROMPT_TEMPLATE = (\n",
    "    f'{ROLE_DESCRIPTION} You are talking to a non-technical audience of potential customers, '\n",
    "    'so answer politely and be sure to break down complicated concepts. '\n",
    "    'You must not answer any questions which are not directly related to the business '\n",
    "    'our company focuses on. Do not engage in chats unrelated to customer-support. '\n",
    "    'QUESTION: {question}'\n",
    ")"
   ],
   "id": "13b5f8592c015ed2",
   "outputs": [],
   "execution_count": 33
  },
  {
   "metadata": {
    "ExecuteTime": {
     "end_time": "2024-07-15T06:09:10.801525Z",
     "start_time": "2024-07-15T06:09:10.790593Z"
    }
   },
   "cell_type": "code",
   "source": [
    "chroma_client = chromadb.PersistentClient(path=str(CHROMA_DB_PATH))\n",
    "collection = chroma_client.get_collection(f'company-documents-{RUN_ID}')"
   ],
   "id": "b9db9c01792bf4c2",
   "outputs": [],
   "execution_count": 34
  },
  {
   "metadata": {
    "ExecuteTime": {
     "end_time": "2024-07-15T06:09:10.810426Z",
     "start_time": "2024-07-15T06:09:10.802469Z"
    }
   },
   "cell_type": "code",
   "source": [
    "def rag_system(query: str) -> str:\n",
    "    \"\"\"\n",
    "    Wraps all RAG functionality into a single function.\n",
    "\n",
    "    :param query:   User question\n",
    "    :return:        Response from the RAG system\n",
    "    \"\"\"\n",
    "    response = requests.post(\n",
    "        EMBEDDING_URL,\n",
    "        json={\n",
    "            'model': EMBEDDING_MODEL,\n",
    "            'prompt': query\n",
    "        }\n",
    "    )\n",
    "    results = collection.query(response.json()['embedding'], n_results=1)\n",
    "    distance = results['distances'][0][0]\n",
    "\n",
    "    if distance < SIMILARITY_THRESHOLD:\n",
    "        prompt = NO_SALE_PROMPT_TEMPLATE.format(question=query, document=\n",
    "        results['documents'][0][0])\n",
    "    else:\n",
    "        prompt = GENERAL_PROMPT_TEMPLATE.format(question=query)\n",
    "\n",
    "    return requests.post(\n",
    "        MODEL_URL,\n",
    "        json={\n",
    "            'model': MODEL,\n",
    "            'stream': False,\n",
    "            'messages': [\n",
    "                {\n",
    "                    'role': 'user',\n",
    "                    'content': prompt\n",
    "                }\n",
    "            ]\n",
    "        }\n",
    "    ).json()['message']['content']"
   ],
   "id": "e8f26bb58847ace6",
   "outputs": [],
   "execution_count": 35
  },
  {
   "metadata": {},
   "cell_type": "markdown",
   "source": "Let's now test system responses to some user questions",
   "id": "2bf0e4a83f856c00"
  },
  {
   "metadata": {
    "ExecuteTime": {
     "end_time": "2024-07-15T06:09:20.000732Z",
     "start_time": "2024-07-15T06:09:10.811519Z"
    }
   },
   "cell_type": "code",
   "source": [
    "response = rag_system(\n",
    "    'I\\'d like to buy a kitchen table. Can you help me chose one?')\n",
    "print(response)"
   ],
   "id": "f2891abf853af996",
   "outputs": [
    {
     "name": "stdout",
     "output_type": "stream",
     "text": [
      "I'd be delighted to assist you in finding the perfect kitchen table for your home.\n",
      "\n",
      "To get started, could you please tell me what kind of style are you looking for? Are you drawn to modern and sleek, or perhaps traditional and ornate?\n",
      "\n",
      "Additionally, how many people do you typically have sitting around the kitchen table at one time? This will help me narrow down some options for you.\n",
      "\n",
      "We offer a wide range of kitchen tables in various materials, such as wood, glass, and metal. Some of our most popular styles include rustic farmhouse, minimalist chic, and elegant formal.\n",
      "\n",
      "Lastly, what is your budget like for this purchase? Knowing your price range will enable me to suggest options that fit within your means.\n",
      "\n",
      "Let's work together to find the perfect kitchen table for you!\n"
     ]
    }
   ],
   "execution_count": 36
  },
  {
   "metadata": {
    "ExecuteTime": {
     "end_time": "2024-07-15T06:09:28.929311Z",
     "start_time": "2024-07-15T06:09:20.001964Z"
    }
   },
   "cell_type": "code",
   "source": [
    "response = rag_system('How can I order your products in the Czech Republic?')\n",
    "print(response)"
   ],
   "id": "bcb0c766f6dea5",
   "outputs": [
    {
     "name": "stdout",
     "output_type": "stream",
     "text": [
      "I'd be happy to help you with that! As Home Accessories LLC, we are committed to conducting business ethically and complying with international regulations.\n",
      "\n",
      "To answer your question, yes, you can definitely order our products in the Czech Republic. We have a wide range of home accessories available for purchase, and we ship internationally to many countries, including the Czech Republic.\n",
      "\n",
      "You can visit our website and browse through our product catalog to find what you're looking for. Once you've selected the items you want to purchase, simply follow the checkout process to place your order. We'll take care of the rest, including shipping and handling.\n",
      "\n",
      "Please note that our payment options may vary depending on your location, so if you have any questions or concerns about the ordering process, please don't hesitate to reach out to us. We're here to help!\n"
     ]
    }
   ],
   "execution_count": 37
  },
  {
   "metadata": {
    "ExecuteTime": {
     "end_time": "2024-07-15T06:09:37.220545Z",
     "start_time": "2024-07-15T06:09:28.930121Z"
    }
   },
   "cell_type": "code",
   "source": [
    "response = rag_system(\n",
    "    'I live in Berlin and absolutely love your products. I\\'d like to order some cutlery if possible.')\n",
    "print(response)"
   ],
   "id": "d701b7e895506d1a",
   "outputs": [
    {
     "name": "stdout",
     "output_type": "stream",
     "text": [
      "I'm happy to help you with your request! Unfortunately, as per our company policy, we don't conduct sales in Germany due to market saturation and competition issues. Our focus is on exploring more viable markets where we can offer our products at a competitive price.\n",
      "\n",
      "However, I want to thank you for your enthusiasm towards our brand, and I'm glad you like our products! If you're willing to consider alternative shipping options or purchasing from another country, I'd be happy to guide you through the process. Alternatively, if there's anything else we can do to make you happy (e.g., recommendations for similar products), please feel free to ask!\n",
      "\n",
      "Please let me know how I can assist you further.\n"
     ]
    }
   ],
   "execution_count": 38
  },
  {
   "metadata": {
    "ExecuteTime": {
     "end_time": "2024-07-15T06:09:44.765656Z",
     "start_time": "2024-07-15T06:09:37.221469Z"
    }
   },
   "cell_type": "code",
   "source": [
    "response = rag_system('Can you help me find a local store in Milan?')\n",
    "print(response)"
   ],
   "id": "3ca9efec61885eb3",
   "outputs": [
    {
     "name": "stdout",
     "output_type": "stream",
     "text": [
      "I'm happy to help! Unfortunately, I have some bad news. Due to our company's decision to suspend sales to Italy due to the unstable economic environment, we do not currently have any physical stores or representatives in Milan or anywhere else in Italy. However, we are always looking for ways to expand and revisit markets when conditions improve.\n",
      "\n",
      "If you're interested in purchasing from us, I can offer alternative options such as online shopping on our website or exploring other countries where we operate a local presence. Would you like me to help with that?\n"
     ]
    }
   ],
   "execution_count": 39
  },
  {
   "metadata": {
    "ExecuteTime": {
     "end_time": "2024-07-15T06:09:52.366252Z",
     "start_time": "2024-07-15T06:09:44.766502Z"
    }
   },
   "cell_type": "code",
   "source": [
    "response = rag_system('I live in Catalonia. Where can I buy your products?')\n",
    "print(response)"
   ],
   "id": "d8ed927d20568ce",
   "outputs": [
    {
     "name": "stdout",
     "output_type": "stream",
     "text": [
      "I'm happy to help you with that! Unfortunately, due to the recent changes in regulations, we have decided not to conduct sales in Spain, including Catalonia. As mentioned in our previous response, this decision was made after a thorough analysis of various factors that impact our business operations and ethical standards.\n",
      "\n",
      "However, I'd be more than happy to help you explore other options where you can find similar products that meet your needs. Alternatively, we could discuss potential alternatives or offer recommendations on what might work best for you. Would you like me to do that?\n"
     ]
    }
   ],
   "execution_count": 40
  },
  {
   "metadata": {
    "ExecuteTime": {
     "end_time": "2024-07-15T06:09:59.077736Z",
     "start_time": "2024-07-15T06:09:52.366988Z"
    }
   },
   "cell_type": "code",
   "source": [
    "response = rag_system('Do you ship to Sweden?')\n",
    "print(response)"
   ],
   "id": "7f5790fc13f82530",
   "outputs": [
    {
     "name": "stdout",
     "output_type": "stream",
     "text": [
      "I'm happy to help! Unfortunately, Home Accessories LLC has decided not to conduct sales in Sweden due to ethical and environmental concerns. Until we can ensure full compliance with Sweden's high environmental standards and address concerns about the ethical sourcing of materials used in our products, we will not be shipping to Sweden.\n"
     ]
    }
   ],
   "execution_count": 41
  },
  {
   "metadata": {
    "ExecuteTime": {
     "end_time": "2024-07-15T06:11:13.865891Z",
     "start_time": "2024-07-15T06:11:05.247889Z"
    }
   },
   "cell_type": "code",
   "source": [
    "response = rag_system(\n",
    "    'How long does it take light to get from the Sun to the Earth?')\n",
    "print(response)"
   ],
   "id": "549d0e84f98ba8f8",
   "outputs": [
    {
     "name": "stdout",
     "output_type": "stream",
     "text": [
      "I'm happy to help you with your question! However, I have to let you know that this question is outside of my expertise as a customer support agent for Home Accessories LLC. We specialize in providing high-quality home accessories, and I'm here to assist you with any questions or concerns you may have about our products.\n",
      "\n",
      "If you're interested in learning more about the speed at which light travels from the Sun to the Earth, I would suggest consulting a trusted source such as NASA's website or an astronomy textbook. These resources are well-equipped to provide accurate and detailed information on this topic.\n",
      "\n",
      "In the meantime, if you have any questions or concerns about our home accessories products, please don't hesitate to ask! We're here to help you find the perfect solutions for your home decor needs.\n"
     ]
    }
   ],
   "execution_count": 43
  },
  {
   "metadata": {},
   "cell_type": "markdown",
   "source": "Ok, these responses look reasonable. Let's use put this model into production.",
   "id": "be7a7f3e9d5704c3"
  }
 ],
 "metadata": {
  "kernelspec": {
   "display_name": "Python 3 (ipykernel)",
   "language": "python",
   "name": "python3"
  },
  "language_info": {
   "codemirror_mode": {
    "name": "ipython",
    "version": 2
   },
   "file_extension": ".py",
   "mimetype": "text/x-python",
   "name": "python",
   "nbconvert_exporter": "python",
   "pygments_lexer": "ipython2",
   "version": "2.7.6"
  }
 },
 "nbformat": 4,
 "nbformat_minor": 5
}
