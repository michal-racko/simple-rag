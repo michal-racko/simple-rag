{
 "cells": [
  {
   "metadata": {},
   "cell_type": "markdown",
   "source": [
    "Let us have a look at the no_sale_countries.md document. It can be seen that the document can be split into three parts:\n",
    "1. The first two paragraphs describing the need to omit sales in specific countries.\n",
    "2. Numbered paragraphs listing the \"no sale\" countries along with an explanation\n",
    "3. A conclusion paragraph summarizing possible future updates to the no-sale-country policy\n",
    "\n",
    "The basic functionality of our chatbot should look something like this:\n",
    "1. If the user asks a customer-support-related question, they should be given a general answer briefly mentioning the no-sale-country policy (in case they are from one of these countries)\n",
    "2. If the user asks a customer-support-related question related to one of the no-sale countries, they should be given a description of the policy together with a country-specific explanation\n",
    "3. If the user asks specifically about the no-sale countries, they should be given a description of the policy, together with the list of no-sale countries\n",
    "4. Questions which are not relevant to customer support must not be answered\n",
    "\n",
    "Let's split the data into relevant documents, extracting metadata and replacing \"[Your Company Name]\" with the actual customer-company name."
   ],
   "id": "6bdee5fa6daca431"
  },
  {
   "metadata": {
    "ExecuteTime": {
     "end_time": "2024-07-13T18:27:41.464700Z",
     "start_time": "2024-07-13T18:27:41.462237Z"
    }
   },
   "cell_type": "code",
   "source": [
    "import re\n",
    "import json\n",
    "from pathlib import Path\n",
    "\n",
    "CUSTOMER_NAME = 'Home Accessories LLC'\n",
    "\n",
    "INPUT_FILE = Path().resolve().parent / 'data/no_sale_countries.md'\n",
    "OUTPUT_FILE = Path().resolve().parent / 'data/no_sale_countries.json'"
   ],
   "id": "a527e9bcbf480fb4",
   "outputs": [],
   "execution_count": 4
  },
  {
   "metadata": {
    "ExecuteTime": {
     "end_time": "2024-07-13T18:27:41.481379Z",
     "start_time": "2024-07-13T18:27:41.465492Z"
    }
   },
   "cell_type": "code",
   "source": [
    "raw_text = INPUT_FILE.read_text().replace('[Your Company Name]', CUSTOMER_NAME)\n",
    "paragraphs = raw_text.split('\\n\\n')\n",
    "for i, paragraph in enumerate(paragraphs):\n",
    "    print(f'=== paragraph {i} ===')\n",
    "    print(paragraph)\n",
    "    print()"
   ],
   "id": "c0f335ca7526ccaf",
   "outputs": [
    {
     "name": "stdout",
     "output_type": "stream",
     "text": [
      "=== paragraph 0 ===\n",
      "# No Sale Countries\n",
      "\n",
      "=== paragraph 1 ===\n",
      "As part of our commitment to ethical business practices and compliance with\n",
      "international regulations, Home Accessories LLC has identified certain countries\n",
      "where we will not conduct sales. This decision is based on a combination of\n",
      "factors including but not limited to legal restrictions, ethical concerns, and\n",
      "market conditions.\n",
      "\n",
      "=== paragraph 2 ===\n",
      "The following countries are on our no sale list, along with the specific reasons\n",
      "for each designation:\n",
      "\n",
      "=== paragraph 3 ===\n",
      "1. Spain\n",
      "- Reason: Compliance with Local Regulations\n",
      "    - Spain has recently implemented stringent regulations on the sale of\n",
      "      specific categories of products that we manufacture. Our current product\n",
      "      lines do not meet the new regulatory requirements, and bringing them into\n",
      "      compliance would require significant changes to our production process and\n",
      "      supply chain, resulting in unsustainable costs.\n",
      "\n",
      "=== paragraph 4 ===\n",
      "2. Italy\n",
      "- Reason: Unstable Economic Environment\n",
      "    - The ongoing economic instability in Italy poses a high risk for business\n",
      "      operations. The fluctuating currency value and unpredictable economic\n",
      "      policies create an uncertain environment that could lead to substantial\n",
      "      financial losses. Until the economic situation stabilizes, we have decided\n",
      "      to suspend all sales to Italy to safeguard our company's interests.\n",
      "\n",
      "=== paragraph 5 ===\n",
      "3. Germany\n",
      "- Reason: Market Saturation and Competition\n",
      "    - The German market is currently saturated with competitors offering similar\n",
      "      products at lower prices. The high level of competition, combined with\n",
      "      significant market entry barriers, makes it challenging to achieve a\n",
      "      profitable market share. Consequently, we have decided to redirect our\n",
      "      resources to more viable markets.\n",
      "\n",
      "=== paragraph 6 ===\n",
      "4. Sweden\n",
      "- Reason: Ethical and Environmental Concerns\n",
      "    - Sweden has stringent environmental protection laws and a strong emphasis\n",
      "      on sustainable practices. Some of our products do not yet meet Sweden's\n",
      "      high environmental standards. Additionally, there have been concerns\n",
      "      raised about the ethical sourcing of materials used in our products. Until\n",
      "      we can ensure full compliance with Sweden's ethical and environmental\n",
      "      standards, we will not conduct sales in this market.\n",
      "\n",
      "=== paragraph 7 ===\n",
      "### Conclusion\n",
      "\n",
      "=== paragraph 8 ===\n",
      "Our decision to not sell in these countries is based on a thorough analysis of\n",
      "various factors that impact our business operations and ethical standards. We\n",
      "remain committed to exploring potential opportunities in these regions in the\n",
      "future, should the conditions change favorably.\n",
      "\n",
      "=== paragraph 9 ===\n",
      "If you have any questions or require further information, please contact the\n",
      "Compliance Department.\n",
      "\n"
     ]
    }
   ],
   "execution_count": 5
  },
  {
   "metadata": {},
   "cell_type": "markdown",
   "source": "Paragraphs 3-6 have to be parsed a bit further. Otherwise, we can create a bit more structured data file.",
   "id": "70da08415b37e067"
  },
  {
   "metadata": {
    "ExecuteTime": {
     "end_time": "2024-07-13T18:27:41.492801Z",
     "start_time": "2024-07-13T18:27:41.482161Z"
    }
   },
   "cell_type": "code",
   "source": [
    "result = {\n",
    "    'documents': [],\n",
    "    'introduction': paragraphs[1],\n",
    "    'conclusion': f'{paragraphs[8]}\\n\\n{paragraphs[9]}'\n",
    "}\n",
    "no_sale_countries = []\n",
    "for paragraph in paragraphs[3:7]:\n",
    "    parts = [part.strip() for part in paragraph.split('-')]\n",
    "    country = parts[0].split()[-1]\n",
    "    no_sale_countries.append(country)\n",
    "\n",
    "    result['documents'].append({\n",
    "        'text': parts[1] + '\\n' + re.sub(r'\\n\\W*', ' ', parts[2]),\n",
    "        'meatadata': {\n",
    "            'geography': parts[0].split()[-1]\n",
    "        }\n",
    "    })\n",
    "\n",
    "with open(OUTPUT_FILE, 'w') as f:\n",
    "    json.dump(result, f, indent=2)"
   ],
   "id": "a592f6ff1c4f45cb",
   "outputs": [],
   "execution_count": 6
  }
 ],
 "metadata": {
  "kernelspec": {
   "display_name": "Python 3",
   "language": "python",
   "name": "python3"
  },
  "language_info": {
   "codemirror_mode": {
    "name": "ipython",
    "version": 2
   },
   "file_extension": ".py",
   "mimetype": "text/x-python",
   "name": "python",
   "nbconvert_exporter": "python",
   "pygments_lexer": "ipython2",
   "version": "2.7.6"
  }
 },
 "nbformat": 4,
 "nbformat_minor": 5
}
