{
 "cells": [
  {
   "metadata": {},
   "cell_type": "markdown",
   "source": "This experiment focuses on the retriever part of the RAG system. Let us prepare a system retrieving a single document both since there is little data and for the sake of simplicity and let's focus on selecting the correct country.",
   "id": "bdb5ff5c96f05be6"
  },
  {
   "metadata": {
    "ExecuteTime": {
     "end_time": "2024-07-13T20:44:30.905568Z",
     "start_time": "2024-07-13T20:44:30.902387Z"
    }
   },
   "cell_type": "code",
   "source": [
    "import os\n",
    "import json\n",
    "import uuid\n",
    "from pathlib import Path\n",
    "import numpy as np\n",
    "\n",
    "import mlflow\n",
    "import requests\n",
    "import chromadb\n",
    "\n",
    "from tools import read_user_questions\n",
    "\n",
    "EMBEDDING_URL = 'http://localhost:11434/api/embeddings'\n",
    "EMBEDDING_MODEL = 'mxbai-embed-large'\n",
    "SIMILARITY_METRIC = 'cosine'\n",
    "\n",
    "MLFLOW_SERVER_URL = 'http://localhost:5000'\n",
    "EXPERIMENT_NAME = 'retriever-country'\n",
    "\n",
    "CHROMA_DB_PATH = Path().resolve().parent / 'data' / 'chroma-db'\n",
    "USER_QUESTIONS_DIR = Path().resolve().parent / 'data' / 'user_questions'\n",
    "NO_SALE_DOCUMENTS = Path().resolve().parent / 'data' / 'no_sale_countries.json'\n",
    "\n",
    "RUN_ID = str(uuid.uuid4())\n",
    "\n",
    "os.environ['LOGNAME'] = 'Michal Racko'"
   ],
   "id": "7b9f89a5fa51e60d",
   "outputs": [],
   "execution_count": 16
  },
  {
   "metadata": {},
   "cell_type": "markdown",
   "source": "Load user-question dataset while keeping track of which country the questions belong to",
   "id": "c06f7cfded549eb9"
  },
  {
   "metadata": {
    "ExecuteTime": {
     "end_time": "2024-07-13T20:44:30.935057Z",
     "start_time": "2024-07-13T20:44:30.932380Z"
    }
   },
   "cell_type": "code",
   "source": [
    "user_questions = {\n",
    "    'Germany': read_user_questions(USER_QUESTIONS_DIR / 'germany.txt'),\n",
    "    'Italy': read_user_questions(USER_QUESTIONS_DIR / 'italy.txt'),\n",
    "    'Spain': read_user_questions(USER_QUESTIONS_DIR / 'spain.txt'),\n",
    "    'Sweden': read_user_questions(USER_QUESTIONS_DIR / 'sweden.txt')\n",
    "}\n",
    "with open(NO_SALE_DOCUMENTS) as f:\n",
    "    document_data = json.load(f)"
   ],
   "id": "56340abed5acc99a",
   "outputs": [],
   "execution_count": 17
  },
  {
   "metadata": {},
   "cell_type": "markdown",
   "source": "Let's embed individual documents and save them into ChromaDB",
   "id": "9b8e7d060107f74d"
  },
  {
   "metadata": {
    "ExecuteTime": {
     "end_time": "2024-07-13T20:44:31.467058Z",
     "start_time": "2024-07-13T20:44:30.944750Z"
    }
   },
   "cell_type": "code",
   "source": [
    "chroma_client = chromadb.PersistentClient(path=str(CHROMA_DB_PATH))\n",
    "collection = chroma_client.create_collection(\n",
    "    name=f'company-documents-{RUN_ID}',\n",
    "    metadata={'hnsw:space': SIMILARITY_METRIC}\n",
    ")\n",
    "for data in document_data['documents']:\n",
    "    response = requests.post(\n",
    "        EMBEDDING_URL,\n",
    "        json={\n",
    "            'model': EMBEDDING_MODEL,\n",
    "            'prompt': data['text']\n",
    "        }\n",
    "    )\n",
    "    if response.status_code == 200:\n",
    "        collection.add(\n",
    "            ids=[data['meatadata']['geography']],\n",
    "            embeddings=response.json()['embedding'],\n",
    "            documents=data['text']\n",
    "        )\n",
    "    else:\n",
    "        raise Exception(response.text)"
   ],
   "id": "e38c200f31e4c7b4",
   "outputs": [],
   "execution_count": 18
  },
  {
   "metadata": {},
   "cell_type": "markdown",
   "source": "Now we can evaluate the results and calculate the accuracy",
   "id": "9d93b8b40487d57c"
  },
  {
   "metadata": {
    "ExecuteTime": {
     "end_time": "2024-07-13T20:45:49.164585Z",
     "start_time": "2024-07-13T20:44:31.468137Z"
    }
   },
   "cell_type": "code",
   "source": [
    "correct_class = []\n",
    "for country, questions in user_questions.items():\n",
    "    for question in questions:\n",
    "        response = requests.post(\n",
    "            EMBEDDING_URL,\n",
    "            json={\n",
    "                'model': EMBEDDING_MODEL,\n",
    "                'prompt': question\n",
    "            }\n",
    "        )\n",
    "        results = collection.query(response.json()['embedding'], n_results=1)\n",
    "        correct_class.append(results['ids'][0][0].lower() == country.lower())\n",
    "correct_class = np.array(correct_class)\n",
    "accuracy = correct_class.sum() / len(correct_class)\n",
    "print(f'Accuracy: {accuracy * 100:.2f}%')"
   ],
   "id": "83cf3546496e328c",
   "outputs": [
    {
     "name": "stdout",
     "output_type": "stream",
     "text": [
      "Accuracy: 86.75%\n"
     ]
    }
   ],
   "execution_count": 19
  },
  {
   "metadata": {},
   "cell_type": "markdown",
   "source": "Finally, push the run parameters and metrics to the MLFlow server",
   "id": "fe28fc1b51aede6d"
  },
  {
   "metadata": {
    "ExecuteTime": {
     "end_time": "2024-07-13T20:45:49.240945Z",
     "start_time": "2024-07-13T20:45:49.165319Z"
    }
   },
   "cell_type": "code",
   "source": [
    "mlflow.set_tracking_uri(MLFLOW_SERVER_URL)\n",
    "mlflow.set_experiment(EXPERIMENT_NAME)\n",
    "\n",
    "with mlflow.start_run(run_name=RUN_ID):\n",
    "    mlflow.log_params({\n",
    "        'model': EMBEDDING_MODEL,\n",
    "        'similarity_metric': SIMILARITY_METRIC,\n",
    "        'run_id': RUN_ID\n",
    "    })\n",
    "    mlflow.log_metric('accuracy', accuracy)"
   ],
   "id": "19e1ee002e5de863",
   "outputs": [],
   "execution_count": 20
  }
 ],
 "metadata": {
  "kernelspec": {
   "display_name": "Python 3",
   "language": "python",
   "name": "python3"
  },
  "language_info": {
   "codemirror_mode": {
    "name": "ipython",
    "version": 2
   },
   "file_extension": ".py",
   "mimetype": "text/x-python",
   "name": "python",
   "nbconvert_exporter": "python",
   "pygments_lexer": "ipython2",
   "version": "2.7.6"
  }
 },
 "nbformat": 4,
 "nbformat_minor": 5
}
